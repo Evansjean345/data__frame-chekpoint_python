{
  "cells": [
    {
      "cell_type": "code",
      "source": [
        "#question 1\n",
        " \n",
        "import numpy as np \n",
        "\n",
        "A= np.array([3,4,5,6,7])\n",
        "list(A)\n",
        "print(f'la liste renvoyee a partir de mon tableau est : {A}')\n"
      ],
      "metadata": {
        "id": "TuRzk5VNb_y7",
        "outputId": "99aa3bb0-1986-41e1-c000-225814910ae9",
        "colab": {
          "base_uri": "https://localhost:8080/"
        }
      },
      "execution_count": 18,
      "outputs": [
        {
          "output_type": "stream",
          "name": "stdout",
          "text": [
            "la liste renvoyee a partir de mon tableau est : [3 4 5 6 7]\n"
          ]
        }
      ]
    },
    {
      "cell_type": "code",
      "source": [
        "#question 2\n",
        "\n",
        "import numpy as np \n",
        "\n",
        "B= np.array([[5,7,8],[4,5,7]])\n",
        "print(B)\n",
        "sum = np.trace(B)\n",
        "print(f'la somme des elements diagonaux de mon tableau est : {sum}')\n"
      ],
      "metadata": {
        "id": "hBlbDS91QRx1",
        "outputId": "4b8bb316-7a48-49bb-ab18-804b98fed1d2",
        "colab": {
          "base_uri": "https://localhost:8080/"
        }
      },
      "execution_count": 17,
      "outputs": [
        {
          "output_type": "stream",
          "name": "stdout",
          "text": [
            "[[5 7 8]\n",
            " [4 5 7]]\n",
            "la somme des elements diagonaux de mon tableau est : 10\n"
          ]
        }
      ]
    },
    {
      "cell_type": "code",
      "source": [
        "#question 3\n",
        "\n",
        "import numpy as np \n",
        "\n",
        "a = [[1,2],[3,5]] \n",
        "\n",
        "for i in a :\n",
        "   x=2\n",
        "   i=0\n",
        "   i+=1\n",
        "   if i >= x:\n",
        "     print(a[i])\n",
        "   else:\n",
        "     print(f'les valeurs superieurs a x sont : {a[i]}')\n",
        "   break\n"
      ],
      "metadata": {
        "id": "SxjWMpdSTYlD",
        "outputId": "f7d75e45-184f-4cbb-cde4-84e95cbad79f",
        "colab": {
          "base_uri": "https://localhost:8080/"
        }
      },
      "execution_count": 34,
      "outputs": [
        {
          "output_type": "stream",
          "name": "stdout",
          "text": [
            "les valeurs superieurs a x sont : [3, 5]\n"
          ]
        }
      ]
    },
    {
      "cell_type": "code",
      "source": [
        "#question 4\n",
        "\n",
        "import numpy as np \n",
        "\n",
        "my_tabA = np.array([5,6,8,9] , dtype=np.float64)\n",
        "\n",
        "my_tabB = np.array ([5,5,2,2] , dtype=np.float64)\n",
        "\n",
        "my_tabC = my_tabA + my_tabB\n",
        "print(f\" l' addition de mes 2 tableaux est : {my_tabC}\")"
      ],
      "metadata": {
        "id": "N1U9ZCQJWD5W",
        "outputId": "80cb48b8-0c4e-4d23-a3c1-5d58f2f174f2",
        "colab": {
          "base_uri": "https://localhost:8080/"
        }
      },
      "execution_count": 46,
      "outputs": [
        {
          "output_type": "stream",
          "name": "stdout",
          "text": [
            " l' addition de mes 2 tableaux est : [10. 11. 10. 11.]\n"
          ]
        }
      ]
    },
    {
      "cell_type": "code",
      "source": [
        "#question 5\n",
        "import numpy as np \n",
        "import statistics as mean\n",
        "#moyenne des diffrentes lignes \n",
        "  \n",
        "matrix = np.array([[1, 2, 3], [4, 5, 6], [7, 8, 9]]) \n",
        "  \n",
        "row_mean = np.mean( matrix, axis=1) \n",
        "  \n",
        "row1_mean = row_mean[0] \n",
        "print(\"la moyenne de la 1ere ligne est : \", row1_mean) \n",
        "  \n",
        "row2_mean = row_mean[1] \n",
        "print(\"la moyenne de la 2e ligne est :\", row2_mean) \n",
        "  \n",
        "row3_mean = row_mean[2] \n",
        "print(\"la moyenne de la 3e ligne est :\", row3_mean) \n",
        "  \n",
        " #moyenne des différentes colonnes \n",
        "\n",
        "column_mean = np.mean(matrix , axis=0) \n",
        "  \n",
        "column1_mean = column_mean[0] \n",
        "print(\"la moyenne de la 1ere colonne est :\", column1_mean) \n",
        "  \n",
        "column2_mean = column_mean[1] \n",
        "print(\"la moyenne de la 2e colonne est :\", column2_mean) \n",
        "  \n",
        "column3_mean = column_mean[2] \n",
        "print(\"la moyenne de la 3e colonne est :\", column3_mean) \n",
        "\n"
      ],
      "metadata": {
        "id": "1qLDM60zdJvf",
        "outputId": "7a6dedbd-ba79-48ef-9f1a-9ccbfc4aa6f3",
        "colab": {
          "base_uri": "https://localhost:8080/"
        }
      },
      "execution_count": 64,
      "outputs": [
        {
          "output_type": "stream",
          "name": "stdout",
          "text": [
            "la moyenne de la 1ere ligne est :  2.0\n",
            "la moyenne de la 2e ligne est : 5.0\n",
            "la moyenne de la 3e ligne est : 8.0\n",
            "la moyenne de la 1ere colonne est : 4.0\n",
            "la moyenne de la 2e colonne est : 5.0\n",
            "la moyenne de la 3e colonne est : 6.0\n"
          ]
        }
      ]
    }
  ],
  "metadata": {
    "colab": {
      "collapsed_sections": [],
      "name": "Bienvenue dans Colaboratory",
      "toc_visible": true,
      "provenance": []
    },
    "kernelspec": {
      "display_name": "Python 3",
      "name": "python3"
    }
  },
  "nbformat": 4,
  "nbformat_minor": 0
}